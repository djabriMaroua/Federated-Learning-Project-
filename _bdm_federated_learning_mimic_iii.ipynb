{
  "cells": [
    {
      "cell_type": "markdown",
      "source": [
        "Dans ce notebook, nous allons effectuer une classification supervisée (RN) en utilisant l'apprentissage fédéré sur la dataset MIMIC-III, plus précisemment prédire la mortalité d'un patient."
      ],
      "metadata": {
        "id": "BGtXZtrdPlnm"
      }
    },
    {
      "cell_type": "markdown",
      "source": [
        "Les importations"
      ],
      "metadata": {
        "id": "B89DbNl0CjKq"
      }
    },
    {
      "cell_type": "code",
      "source": [
        "import pandas as pd\n",
        "import numpy as np\n",
        "import matplotlib.pyplot as plt"
      ],
      "metadata": {
        "id": "eAtQ4MvgCiJn"
      },
      "execution_count": null,
      "outputs": []
    },
    {
      "cell_type": "markdown",
      "source": [
        "#1.  Préparation des données\n",
        "\n"
      ],
      "metadata": {
        "id": "aB6rVfJa1AMd"
      }
    },
    {
      "cell_type": "markdown",
      "source": [
        "## Connexion à Google Drive\n",
        "Cette cellule monte Google Drive pour accéder aux fichiers de la base de données MIMIC-III stockés sur le Drive."
      ],
      "metadata": {
        "id": "MMWlfzANPuIz"
      }
    },
    {
      "cell_type": "code",
      "execution_count": null,
      "metadata": {
        "colab": {
          "base_uri": "https://localhost:8080/"
        },
        "id": "-5F7Ayyr5j2-",
        "outputId": "e8817175-e5f9-432b-e7be-f2b73bb239a2"
      },
      "outputs": [
        {
          "output_type": "stream",
          "name": "stdout",
          "text": [
            "Requirement already satisfied: gdown in /usr/local/lib/python3.11/dist-packages (5.2.0)\n",
            "Requirement already satisfied: beautifulsoup4 in /usr/local/lib/python3.11/dist-packages (from gdown) (4.13.3)\n",
            "Requirement already satisfied: filelock in /usr/local/lib/python3.11/dist-packages (from gdown) (3.17.0)\n",
            "Requirement already satisfied: requests[socks] in /usr/local/lib/python3.11/dist-packages (from gdown) (2.32.3)\n",
            "Requirement already satisfied: tqdm in /usr/local/lib/python3.11/dist-packages (from gdown) (4.67.1)\n",
            "Requirement already satisfied: soupsieve>1.2 in /usr/local/lib/python3.11/dist-packages (from beautifulsoup4->gdown) (2.6)\n",
            "Requirement already satisfied: typing-extensions>=4.0.0 in /usr/local/lib/python3.11/dist-packages (from beautifulsoup4->gdown) (4.12.2)\n",
            "Requirement already satisfied: charset-normalizer<4,>=2 in /usr/local/lib/python3.11/dist-packages (from requests[socks]->gdown) (3.4.1)\n",
            "Requirement already satisfied: idna<4,>=2.5 in /usr/local/lib/python3.11/dist-packages (from requests[socks]->gdown) (3.10)\n",
            "Requirement already satisfied: urllib3<3,>=1.21.1 in /usr/local/lib/python3.11/dist-packages (from requests[socks]->gdown) (2.3.0)\n",
            "Requirement already satisfied: certifi>=2017.4.17 in /usr/local/lib/python3.11/dist-packages (from requests[socks]->gdown) (2025.1.31)\n",
            "Requirement already satisfied: PySocks!=1.5.7,>=1.5.6 in /usr/local/lib/python3.11/dist-packages (from requests[socks]->gdown) (1.7.1)\n",
            "Downloading...\n",
            "From: https://drive.google.com/uc?id=12QEebkIqEIIbWA8H1-Pu8IyDGVu88i98\n",
            "To: /content/MIMIC-III_dataset.zip\n",
            "100% 10.7M/10.7M [00:00<00:00, 38.2MB/s]\n",
            "Archive:  MIMIC-III_dataset.zip\n",
            "   creating: /content/MIMIC-III/\n",
            "  inflating: /content/MIMIC-III/ADMISSIONS.csv  \n",
            "  inflating: /content/MIMIC-III/CALLOUT.csv  \n",
            "  inflating: /content/MIMIC-III/CAREGIVERS.csv  \n",
            "  inflating: /content/MIMIC-III/CHARTEVENTS.csv  \n",
            "  inflating: /content/MIMIC-III/CPTEVENTS.csv  \n",
            "  inflating: /content/MIMIC-III/DATETIMEEVENTS.csv  \n",
            "  inflating: /content/MIMIC-III/DIAGNOSES_ICD.csv  \n",
            "  inflating: /content/MIMIC-III/DRGCODES.csv  \n",
            "  inflating: /content/MIMIC-III/D_CPT.csv  \n",
            "  inflating: /content/MIMIC-III/D_ICD_DIAGNOSES.csv  \n",
            "  inflating: /content/MIMIC-III/D_ICD_PROCEDURES.csv  \n",
            "  inflating: /content/MIMIC-III/D_ITEMS.csv  \n",
            "  inflating: /content/MIMIC-III/D_LABITEMS.csv  \n",
            "  inflating: /content/MIMIC-III/ICUSTAYS.csv  \n",
            "  inflating: /content/MIMIC-III/INPUTEVENTS_CV.csv  \n",
            "  inflating: /content/MIMIC-III/INPUTEVENTS_MV.csv  \n",
            "  inflating: /content/MIMIC-III/LABEVENTS.csv  \n",
            "  inflating: /content/MIMIC-III/LICENSE.txt  \n",
            "  inflating: /content/MIMIC-III/MICROBIOLOGYEVENTS.csv  \n",
            "  inflating: /content/MIMIC-III/NOTEEVENTS.csv  \n",
            "  inflating: /content/MIMIC-III/OUTPUTEVENTS.csv  \n",
            "  inflating: /content/MIMIC-III/PATIENTS.csv  \n",
            "  inflating: /content/MIMIC-III/PRESCRIPTIONS.csv  \n",
            "  inflating: /content/MIMIC-III/PROCEDUREEVENTS_MV.csv  \n",
            "  inflating: /content/MIMIC-III/PROCEDURES_ICD.csv  \n",
            "  inflating: /content/MIMIC-III/SERVICES.csv  \n",
            "  inflating: /content/MIMIC-III/SHA256SUMS.txt  \n",
            "  inflating: /content/MIMIC-III/TRANSFERS.csv  \n"
          ]
        }
      ],
      "source": [
        "!pip install gdown\n",
        "!gdown --fuzzy \"https://drive.google.com/file/d/12QEebkIqEIIbWA8H1-Pu8IyDGVu88i98/view?usp=drive_link\" -O MIMIC-III_dataset.zip\n",
        "!unzip MIMIC-III_dataset.zip -d /content/"
      ]
    },
    {
      "cell_type": "markdown",
      "source": [
        "## Affichage des fichiers MIMIC-III\n",
        "On commence par importer notre dataset, par lister tous les fichiers CSV disponibles dans le répertoire MIMIC-III pour vérifier les données disponibles."
      ],
      "metadata": {
        "id": "XQTajc4iP4CX"
      }
    },
    {
      "cell_type": "code",
      "execution_count": null,
      "metadata": {
        "id": "C6I6Dcpj5_ET",
        "colab": {
          "base_uri": "https://localhost:8080/"
        },
        "outputId": "9758839a-fb09-438d-c631-566101b29b26"
      },
      "outputs": [
        {
          "output_type": "stream",
          "name": "stdout",
          "text": [
            "ADMISSIONS.csv\t    DIAGNOSES_ICD.csv\t  INPUTEVENTS_CV.csv\t  PATIENTS.csv\n",
            "CALLOUT.csv\t    D_ICD_DIAGNOSES.csv   INPUTEVENTS_MV.csv\t  PRESCRIPTIONS.csv\n",
            "CAREGIVERS.csv\t    D_ICD_PROCEDURES.csv  LABEVENTS.csv\t\t  PROCEDUREEVENTS_MV.csv\n",
            "CHARTEVENTS.csv     D_ITEMS.csv\t\t  LICENSE.txt\t\t  PROCEDURES_ICD.csv\n",
            "CPTEVENTS.csv\t    D_LABITEMS.csv\t  MICROBIOLOGYEVENTS.csv  SERVICES.csv\n",
            "DATETIMEEVENTS.csv  DRGCODES.csv\t  NOTEEVENTS.csv\t  SHA256SUMS.txt\n",
            "D_CPT.csv\t    ICUSTAYS.csv\t  OUTPUTEVENTS.csv\t  TRANSFERS.csv\n"
          ]
        }
      ],
      "source": [
        "!ls \"/content/MIMIC-III\""
      ]
    },
    {
      "cell_type": "code",
      "execution_count": null,
      "metadata": {
        "id": "jScx1PurRfVv"
      },
      "outputs": [],
      "source": [
        "chartevents_file = \"/content/MIMIC-III/CHARTEVENTS.csv\"\n",
        "labevents_file = \"/content/MIMIC-III/LABEVENTS.csv\"\n",
        "outputevents_file = \"/content/MIMIC-III/OUTPUTEVENTS.csv\"\n",
        "admissions_file = \"/content/MIMIC-III/ADMISSIONS.csv\"\n",
        "\n",
        "usecols_chartevents = [\"icustay_id\", \"charttime\", \"itemid\", \"valuenum\"]\n",
        "usecols_labevents = [\"subject_id\", \"hadm_id\", \"charttime\", \"itemid\", \"valuenum\"]\n",
        "usecols_outputevents = [\"subject_id\", \"hadm_id\", \"charttime\", \"itemid\", \"value\"]\n"
      ]
    },
    {
      "cell_type": "code",
      "execution_count": null,
      "metadata": {
        "id": "AxH5SwbhW5Lm"
      },
      "outputs": [],
      "source": [
        "df_chartevents = pd.read_csv(\"/content/MIMIC-III/CHARTEVENTS.csv\", usecols=usecols_chartevents, low_memory=False)\n",
        "df_labevents = pd.read_csv(\"/content/MIMIC-III/LABEVENTS.csv\", usecols=usecols_labevents, low_memory=False)\n",
        "df_outputevents = pd.read_csv(outputevents_file, usecols=usecols_outputevents, low_memory=False)\n",
        "df_admissions = pd.read_csv(admissions_file, usecols=[\"subject_id\", \"admittime\"])"
      ]
    },
    {
      "cell_type": "markdown",
      "metadata": {
        "id": "seWdGiByZtUV"
      },
      "source": [
        "## Extraction des caractéristiques cliniques\n",
        "Dans cette partie, nous allons extraire tous les attributs que nous avons trouvé important afin de mieux entrainer nos modèles."
      ]
    },
    {
      "cell_type": "markdown",
      "metadata": {
        "id": "8D9QoH8_Z0EE"
      },
      "source": [
        "### 1. Extraction de l'échelle de Glasgow (GCS)\n",
        "On extrait les composantes de l'échelle de Glasgow (verbale, motrice, oculaire) et calcule le score total, un indicateur neurologique important."
      ]
    },
    {
      "cell_type": "code",
      "execution_count": null,
      "metadata": {
        "id": "6Lt-ftPAZ3-a",
        "colab": {
          "base_uri": "https://localhost:8080/"
        },
        "outputId": "a3b075e4-35f6-48b8-d39e-c9613d602d34"
      },
      "outputs": [
        {
          "output_type": "stream",
          "name": "stderr",
          "text": [
            "<ipython-input-5-05e92c8aa275>:7: SettingWithCopyWarning: \n",
            "A value is trying to be set on a copy of a slice from a DataFrame.\n",
            "Try using .loc[row_indexer,col_indexer] = value instead\n",
            "\n",
            "See the caveats in the documentation: https://pandas.pydata.org/pandas-docs/stable/user_guide/indexing.html#returning-a-view-versus-a-copy\n",
            "  df_gcs[\"Feature\"] = df_gcs[\"itemid\"].map({v: k for k, lst in gcs_items.items() for v in lst})\n"
          ]
        }
      ],
      "source": [
        "gcs_items = {\n",
        "    \"GCSVerbal\": [723, 223900],\n",
        "    \"GCSMotor\": [454, 223901],\n",
        "    \"GCSEyes\": [184, 220739]\n",
        "}\n",
        "df_gcs = df_chartevents[df_chartevents[\"itemid\"].isin(sum(gcs_items.values(), []))]\n",
        "df_gcs[\"Feature\"] = df_gcs[\"itemid\"].map({v: k for k, lst in gcs_items.items() for v in lst})\n",
        "df_gcs = df_gcs.pivot_table(index=[\"icustay_id\", \"charttime\"], columns=\"Feature\", values=\"valuenum\", aggfunc=\"max\")\n",
        "df_gcs[\"GCS_Total\"] = df_gcs.sum(axis=1)\n",
        "df_gcs.reset_index(inplace=True)\n"
      ]
    },
    {
      "cell_type": "markdown",
      "metadata": {
        "id": "xKdLD-SfZ9JU"
      },
      "source": [
        "### 2. Extraction des signes vitaux\n",
        "On extrait la pression artérielle systolique, la fréquence cardiaque et la température, avec conversion de Fahrenheit à Celsius."
      ]
    },
    {
      "cell_type": "code",
      "execution_count": null,
      "metadata": {
        "id": "0arSSb1haAYq",
        "colab": {
          "base_uri": "https://localhost:8080/"
        },
        "outputId": "c6516e9f-3495-4207-d696-83ef2b0efee8"
      },
      "outputs": [
        {
          "output_type": "stream",
          "name": "stderr",
          "text": [
            "<ipython-input-6-06c532115129>:7: SettingWithCopyWarning: \n",
            "A value is trying to be set on a copy of a slice from a DataFrame.\n",
            "Try using .loc[row_indexer,col_indexer] = value instead\n",
            "\n",
            "See the caveats in the documentation: https://pandas.pydata.org/pandas-docs/stable/user_guide/indexing.html#returning-a-view-versus-a-copy\n",
            "  df_vitals[\"Feature\"] = df_vitals[\"itemid\"].map({v: k for k, lst in vital_signs.items() for v in lst})\n"
          ]
        }
      ],
      "source": [
        "vital_signs = {\n",
        "    \"SysBP\": [51, 442, 455, 220179, 220050],\n",
        "    \"HeartRate\": [211, 220045],\n",
        "    \"Temperature_F\": [678, 223761]\n",
        "}\n",
        "df_vitals = df_chartevents[df_chartevents[\"itemid\"].isin(sum(vital_signs.values(), []))]\n",
        "df_vitals[\"Feature\"] = df_vitals[\"itemid\"].map({v: k for k, lst in vital_signs.items() for v in lst})\n",
        "df_vitals = df_vitals.pivot_table(index=[\"icustay_id\", \"charttime\"], columns=\"Feature\", values=\"valuenum\", aggfunc=\"max\")\n",
        "df_vitals[\"Temperature_C\"] = (df_vitals[\"Temperature_F\"] - 32) * 5/9  # Convert F to C\n",
        "df_vitals.drop(columns=[\"Temperature_F\"], inplace=True)\n",
        "df_vitals.reset_index(inplace=True)"
      ]
    },
    {
      "cell_type": "markdown",
      "metadata": {
        "id": "SF-qCvsPaEjz"
      },
      "source": [
        "### 3.  Calcul du ratio PaO₂/FiO₂\n",
        "On extrait les mesures de PaO₂ et FiO₂, puis calcule leur ratio, un indicateur crucial de la fonction respiratoire."
      ]
    },
    {
      "cell_type": "code",
      "execution_count": null,
      "metadata": {
        "id": "TnwYCvRtaG-K",
        "colab": {
          "base_uri": "https://localhost:8080/"
        },
        "outputId": "a808a368-fc73-49b1-8b0c-cc38318a53f9"
      },
      "outputs": [
        {
          "output_type": "stream",
          "name": "stdout",
          "text": [
            "Feature  subject_id   hadm_id            charttime   PaO2  FiO2  \\\n",
            "0             10011  105331.0  2126-08-15 04:25:00  119.0   NaN   \n",
            "1             10011  105331.0  2126-08-17 22:23:00  103.0   NaN   \n",
            "2             10013  165520.0  2125-10-04 23:59:00   60.0   NaN   \n",
            "3             10013  165520.0  2125-10-05 00:00:00    NaN   0.6   \n",
            "4             10013  165520.0  2125-10-05 00:44:00  115.0   NaN   \n",
            "\n",
            "Feature  PaO2_FiO2_Ratio  \n",
            "0                  119.0  \n",
            "1                  103.0  \n",
            "2                   60.0  \n",
            "3                    NaN  \n",
            "4                  115.0  \n",
            "✅ Extraction and merging completed successfully!\n"
          ]
        },
        {
          "output_type": "stream",
          "name": "stderr",
          "text": [
            "<ipython-input-7-9f867113ce88>:29: FutureWarning: A value is trying to be set on a copy of a DataFrame or Series through chained assignment using an inplace method.\n",
            "The behavior will change in pandas 3.0. This inplace method will never work because the intermediate object on which we are setting values always behaves as a copy.\n",
            "\n",
            "For example, when doing 'df[col].method(value, inplace=True)', try using 'df.method({col: value}, inplace=True)' or df[col] = df[col].method(value) instead, to perform the operation inplace on the original object.\n",
            "\n",
            "\n",
            "  df_pao2_fio2[\"PaO2_FiO2_Ratio\"].fillna(df_pao2_fio2[\"PaO2\"], inplace=True)\n"
          ]
        }
      ],
      "source": [
        "# Pour extraire PaO2\n",
        "df_labevents = pd.read_csv(\"/content/MIMIC-III/LABEVENTS.csv\", low_memory=False)\n",
        "\n",
        "df_pao2 = df_labevents[df_labevents[\"itemid\"] == 50821].copy()  # PaO2 itemid\n",
        "df_pao2[\"Feature\"] = \"PaO2\"\n",
        "df_pao2 = df_pao2.pivot_table(index=[\"subject_id\", \"hadm_id\", \"charttime\"], columns=\"Feature\", values=\"valuenum\", aggfunc=\"max\")\n",
        "df_pao2.reset_index(inplace=True)\n",
        "\n",
        "# Pour extraire FiO2\n",
        "df_chartevents = pd.read_csv(\"/content/MIMIC-III/CHARTEVENTS.csv\", low_memory=False)\n",
        "\n",
        "fio2_items = [223835, 190]  # FiO2 itemids\n",
        "df_fio2 = df_chartevents[df_chartevents[\"itemid\"].isin(fio2_items)].copy()\n",
        "df_fio2[\"Feature\"] = \"FiO2\"\n",
        "df_fio2 = df_fio2.pivot_table(index=[\"subject_id\", \"hadm_id\", \"charttime\"], columns=\"Feature\", values=\"valuenum\", aggfunc=\"max\")\n",
        "df_fio2.reset_index(inplace=True)\n",
        "\n",
        "# On concatene nos deux résultats\n",
        "df_pao2_fio2 = pd.merge(df_pao2, df_fio2, on=[\"subject_id\", \"hadm_id\", \"charttime\"], how=\"outer\")\n",
        "\n",
        "df_pao2_fio2[\"PaO2_FiO2_Ratio\"] = df_pao2_fio2[\"PaO2\"] / df_pao2_fio2[\"FiO2\"]\n",
        "\n",
        "# Remplacer les valeurs manquantes de PaO2_FiO2_Ratio par PaO2\n",
        "df_pao2_fio2[\"PaO2_FiO2_Ratio\"].fillna(df_pao2_fio2[\"PaO2\"], inplace=True)\n",
        "\n",
        "# Sauvegarder dans un fichier csv\n",
        "df_pao2_fio2.to_csv(\"processed_pao2_fio2.csv\", index=False)\n",
        "\n",
        "print(df_pao2_fio2.head())\n",
        "print(\"✅ Extraction and merging completed successfully!\")\n"
      ]
    },
    {
      "cell_type": "markdown",
      "metadata": {
        "id": "OYjSiK3AcUem"
      },
      "source": [
        "### 4. Extraction de la production d'urine\n",
        "On extrait et agrège les données de production d'urine par patient et période."
      ]
    },
    {
      "cell_type": "code",
      "execution_count": null,
      "metadata": {
        "id": "eYCN6u_HcVWr",
        "colab": {
          "base_uri": "https://localhost:8080/"
        },
        "outputId": "0628978a-d7ac-4da3-c39d-d7fd507762cd"
      },
      "outputs": [
        {
          "output_type": "stream",
          "name": "stdout",
          "text": [
            "   subject_id  hadm_id            charttime  UrineOutput\n",
            "0       10006   142345  2164-10-24 00:00:00        100.0\n",
            "1       10006   142345  2164-10-25 03:00:00         10.0\n",
            "2       10011   105331  2126-08-14 22:00:00        220.0\n",
            "3       10011   105331  2126-08-14 23:00:00         50.0\n",
            "4       10011   105331  2126-08-15 00:00:00         50.0\n",
            "✅ Urine output extraction completed successfully!\n"
          ]
        }
      ],
      "source": [
        "# Urine itemids\n",
        "urine_items = [40055, 43175, 40069, 40094, 40715, 40473, 40085, 40057, 40056]\n",
        "\n",
        "#Extraire que les elements qui contiennent urine itemid\n",
        "df_urine = df_outputevents[df_outputevents[\"itemid\"].isin(urine_items)].copy()\n",
        "\n",
        "# Vérifier si 'valuenum' existe, sinon utiliser 'value'\n",
        "if \"valuenum\" in df_urine.columns:\n",
        "    value_column = \"valuenum\"\n",
        "elif \"value\" in df_urine.columns:\n",
        "    value_column = \"value\"\n",
        "else:\n",
        "    raise KeyError(\"⚠ Aucune colonne valide de sortie urinaire trouvée dans OUTPUTEVENTS.csv!\")\n",
        "\n",
        "# Regrouper par subject_id, hadm_id et charttime\n",
        "df_urine = df_urine.groupby([\"subject_id\", \"hadm_id\", \"charttime\"])[value_column].sum().reset_index()\n",
        "\n",
        "# Renommer la colonne\n",
        "df_urine.rename(columns={value_column: \"UrineOutput\"}, inplace=True)\n",
        "\n",
        "print(df_urine.head())\n",
        "print(\"✅ Extraction des données de sortie urinaire terminée avec succès!\")"
      ]
    },
    {
      "cell_type": "markdown",
      "metadata": {
        "id": "0fXpBeLNc4U2"
      },
      "source": [
        "### 5. Extraction des tests de laboratoire\n",
        "On extrait diverses valeurs de laboratoire (globules blancs, bicarbonate, sodium, potassium, bilirubine, BUN)."
      ]
    },
    {
      "cell_type": "code",
      "execution_count": null,
      "metadata": {
        "id": "tdkn5b_2c5FA",
        "colab": {
          "base_uri": "https://localhost:8080/"
        },
        "outputId": "a23f05f9-2406-45d0-836d-df9e410eff69"
      },
      "outputs": [
        {
          "output_type": "stream",
          "name": "stdout",
          "text": [
            "Feature  subject_id   hadm_id            charttime   BUN  Bicarbonate  \\\n",
            "0             10006  142345.0  2164-10-23 17:38:00   9.0         29.0   \n",
            "1             10006  142345.0  2164-10-24 03:00:00  11.0         31.0   \n",
            "2             10006  142345.0  2164-10-25 09:30:00  20.0         29.0   \n",
            "3             10006  142345.0  2164-10-27 05:11:00  11.0         25.0   \n",
            "4             10006  142345.0  2164-10-28 09:00:00  15.0         26.0   \n",
            "\n",
            "Feature  Bilirubin  Potassium  Sodium  WBC  \n",
            "0              1.0        6.0   139.0  NaN  \n",
            "1              NaN        4.4   139.0  NaN  \n",
            "2              NaN        4.6   138.0  NaN  \n",
            "3              NaN        4.6   139.0  NaN  \n",
            "4              NaN        5.1   141.0  NaN  \n",
            "✅ Lab test extraction completed successfully!\n"
          ]
        }
      ],
      "source": [
        "lab_items = {\n",
        "    \"WBC\": [51300],\n",
        "    \"Bicarbonate\": [50882],\n",
        "    \"Sodium\": [950824, 50983],\n",
        "    \"Potassium\": [50822, 50971],\n",
        "    \"Bilirubin\": [50885],\n",
        "    \"BUN\": [51006]\n",
        "}\n",
        "\n",
        "df_labs = df_labevents[df_labevents[\"itemid\"].isin(sum(lab_items.values(), []))].copy()  # Utiliser .copy() pour éviter les avertissements\n",
        "\n",
        "df_labs[\"Feature\"] = df_labs[\"itemid\"].map({v: k for k, lst in lab_items.items() for v in lst})\n",
        "\n",
        "# Tableau croisé dynamique en utilisant subject_id et hadm_id au lieu de icustay_id\n",
        "df_labs = df_labs.pivot_table(index=[\"subject_id\", \"hadm_id\", \"charttime\"],\n",
        "                              columns=\"Feature\", values=\"valuenum\", aggfunc=\"max\")\n",
        "\n",
        "# Réinitialiser l'index pour aplatir le DataFrame\n",
        "df_labs.reset_index(inplace=True)\n",
        "\n",
        "print(df_labs.head())\n",
        "print(\"✅ Extraction des tests de laboratoire terminée avec succès !\")"
      ]
    },
    {
      "cell_type": "markdown",
      "metadata": {
        "id": "eZDT7OHodRpV"
      },
      "source": [
        "## Fusion et préparation des données\n",
        "### Fusion et prétraitement des données\n",
        "On fusionne tous les dataframes extraits des différentes tables du dataset."
      ]
    },
    {
      "cell_type": "code",
      "execution_count": null,
      "metadata": {
        "id": "e-zb_paodUbN",
        "colab": {
          "base_uri": "https://localhost:8080/"
        },
        "outputId": "24464b7a-838a-4f9c-e6a8-419e35392499"
      },
      "outputs": [
        {
          "output_type": "stream",
          "name": "stdout",
          "text": [
            "   icustay_id_x           charttime  GCSEyes  GCSMotor  GCSVerbal  GCS_Total  \\\n",
            "0           NaN 2164-10-23 17:38:00      NaN       NaN        NaN        NaN   \n",
            "1           NaN 2164-10-24 00:00:00      NaN       NaN        NaN        NaN   \n",
            "2           NaN 2164-10-24 03:00:00      NaN       NaN        NaN        NaN   \n",
            "3           NaN 2164-10-25 03:00:00      NaN       NaN        NaN        NaN   \n",
            "4           NaN 2164-10-25 09:30:00      NaN       NaN        NaN        NaN   \n",
            "\n",
            "   subject_id  hadm_id  icustay_id_y  HeartRate  ...  PaO2  FiO2  \\\n",
            "0       10006   142345           NaN        NaN  ...   NaN   NaN   \n",
            "1       10006   142345           NaN        NaN  ...   NaN   NaN   \n",
            "2       10006   142345           NaN        NaN  ...   NaN   NaN   \n",
            "3       10006   142345           NaN        NaN  ...   NaN   NaN   \n",
            "4       10006   142345           NaN        NaN  ...   NaN   NaN   \n",
            "\n",
            "   PaO2_FiO2_Ratio  UrineOutput   BUN  Bicarbonate  Bilirubin  Potassium  \\\n",
            "0              NaN          NaN   9.0         29.0        1.0        6.0   \n",
            "1              NaN        100.0   NaN          NaN        NaN        NaN   \n",
            "2              NaN          NaN  11.0         31.0        NaN        4.4   \n",
            "3              NaN         10.0   NaN          NaN        NaN        NaN   \n",
            "4              NaN          NaN  20.0         29.0        NaN        4.6   \n",
            "\n",
            "   Sodium  WBC  \n",
            "0   139.0  NaN  \n",
            "1     NaN  NaN  \n",
            "2   139.0  NaN  \n",
            "3     NaN  NaN  \n",
            "4   138.0  NaN  \n",
            "\n",
            "[5 rows x 22 columns]\n",
            "✅ Merging completed successfully!\n"
          ]
        }
      ],
      "source": [
        "dfs = [df_gcs, df_vitals, df_pao2_fio2, df_urine, df_labs]\n",
        "\n",
        "# S'assurer que 'subject_id', 'hadm_id' et 'charttime' sont présents dans tous les DataFrames\n",
        "for i, df in enumerate(dfs):\n",
        "    # 1. Ajouter les colonnes manquantes\n",
        "    for col in [\"subject_id\", \"hadm_id\", \"charttime\"]:\n",
        "        if col not in df.columns:\n",
        "            df[col] = pd.NA\n",
        "\n",
        "    # 2. Convertir en types de données cohérents\n",
        "    for col in [\"subject_id\", \"hadm_id\"]:\n",
        "        if df[col].dtype != 'int64':  # Ajuster le type de données\n",
        "            df[col] = pd.to_numeric(df[col], errors='coerce').astype('Int64')\n",
        "\n",
        "    # 3. Gérer charttime - convertir en format datetime\n",
        "    if df[\"charttime\"].dtype != '<M8[ns]':\n",
        "        df[\"charttime\"] = pd.to_datetime(df[\"charttime\"])\n",
        "\n",
        "    dfs[i] = df\n",
        "\n",
        "# Fusionner tous les DataFrames sur 'subject_id', 'hadm_id' et 'charttime' en une jointure externe\n",
        "df_merged = dfs[0]\n",
        "for df in dfs[1:]:\n",
        "    df_merged = df_merged.merge(df, on=[\"subject_id\", \"hadm_id\", \"charttime\"], how=\"outer\")\n",
        "\n",
        "print(df_merged.head())\n",
        "print(\"✅ Fusion terminée avec succès !\")"
      ]
    },
    {
      "cell_type": "markdown",
      "metadata": {
        "id": "FGhMi-K2d82L"
      },
      "source": [
        "On gère les valeurs manquantes selon plusieurs techniques et élimine les valeurs aberrantes."
      ]
    },
    {
      "cell_type": "code",
      "execution_count": null,
      "metadata": {
        "id": "etb0yYjmd9cP",
        "colab": {
          "base_uri": "https://localhost:8080/"
        },
        "outputId": "95e53136-8ec1-4ca8-a99d-b6be4b0d6820"
      },
      "outputs": [
        {
          "output_type": "stream",
          "name": "stdout",
          "text": [
            "   icustay_id_x           charttime  GCSEyes  GCSMotor  GCSVerbal  GCS_Total  \\\n",
            "0      254635.0 2164-10-23 17:38:00      3.0       4.0        4.0       11.0   \n",
            "1      254635.0 2164-10-24 00:00:00      3.0       4.0        4.0       11.0   \n",
            "2      254635.0 2164-10-24 03:00:00      3.0       4.0        4.0       11.0   \n",
            "3      254635.0 2164-10-25 03:00:00      3.0       4.0        4.0       11.0   \n",
            "4      254635.0 2164-10-25 09:30:00      3.0       4.0        4.0       11.0   \n",
            "\n",
            "   subject_id  hadm_id  icustay_id_y  HeartRate  ...   PaO2  FiO2  \\\n",
            "0       10006   142345      254635.0       72.0  ...  119.0   0.6   \n",
            "1       10006   142345      254635.0       72.0  ...  119.0   0.6   \n",
            "2       10006   142345      254635.0       72.0  ...  119.0   0.6   \n",
            "3       10006   142345      254635.0       72.0  ...  119.0   0.6   \n",
            "4       10006   142345      254635.0       72.0  ...  119.0   0.6   \n",
            "\n",
            "   PaO2_FiO2_Ratio  UrineOutput   BUN  Bicarbonate  Bilirubin  Potassium  \\\n",
            "0            119.0        100.0   9.0         29.0        1.0        6.0   \n",
            "1            119.0        100.0   9.0         29.0        1.0        6.0   \n",
            "2            119.0        100.0  11.0         31.0        1.0        4.4   \n",
            "3            119.0         10.0  11.0         31.0        1.0        4.4   \n",
            "4            119.0         10.0  20.0         29.0        1.0        4.6   \n",
            "\n",
            "   Sodium  WBC  \n",
            "0   139.0  3.1  \n",
            "1   139.0  3.1  \n",
            "2   139.0  3.1  \n",
            "3   139.0  3.1  \n",
            "4   138.0  3.1  \n",
            "\n",
            "[5 rows x 22 columns]\n",
            "✅ Data sorting and cleaning completed successfully!\n"
          ]
        },
        {
          "output_type": "stream",
          "name": "stderr",
          "text": [
            "<ipython-input-11-c91e4132e351>:5: FutureWarning: DataFrame.fillna with 'method' is deprecated and will raise in a future version. Use obj.ffill() or obj.bfill() instead.\n",
            "  df_merged.fillna(method=\"ffill\", inplace=True)\n",
            "<ipython-input-11-c91e4132e351>:6: FutureWarning: DataFrame.fillna with 'method' is deprecated and will raise in a future version. Use obj.ffill() or obj.bfill() instead.\n",
            "  df_merged.fillna(method=\"bfill\", inplace=True)\n"
          ]
        }
      ],
      "source": [
        "df_merged.sort_values([\"subject_id\", \"hadm_id\", \"charttime\"], inplace=True)\n",
        "\n",
        "df_merged.fillna(method=\"ffill\", inplace=True)\n",
        "df_merged.fillna(method=\"bfill\", inplace=True)\n",
        "df_merged.fillna(df_merged.median(), inplace=True)\n",
        "\n",
        "outlier_bounds = {\n",
        "    \"SysBP\": (50, 250),\n",
        "    \"HeartRate\": (30, 200),\n",
        "    \"Temperature_C\": (30, 42),\n",
        "    \"PaO2_FiO2_Ratio\": (50, 600),\n",
        "    \"UrineOutput\": (0, 8000),\n",
        "    \"WBC\": (2, 30),\n",
        "    \"Bicarbonate\": (5, 45),\n",
        "    \"Sodium\": (120, 160),\n",
        "    \"Potassium\": (2, 7),\n",
        "    \"Bilirubin\": (0.1, 50),\n",
        "    \"BUN\": (2, 200),\n",
        "    \"GCS_Total\": (3, 15)\n",
        "}\n",
        "\n",
        "for col, (low, high) in outlier_bounds.items():\n",
        "    if col in df_merged.columns:\n",
        "        df_merged[col] = np.clip(df_merged[col], low, high)\n",
        "\n",
        "print(df_merged.head())\n",
        "print(\"✅ Data sorting and cleaning completed successfully!\")"
      ]
    },
    {
      "cell_type": "markdown",
      "metadata": {
        "id": "PVmS1gh-eYV1"
      },
      "source": [
        "## Exportation des données prétraitées"
      ]
    },
    {
      "cell_type": "code",
      "execution_count": null,
      "metadata": {
        "id": "fbDyKRxIeZ6B",
        "colab": {
          "base_uri": "https://localhost:8080/"
        },
        "outputId": "5de3312a-0bae-4a1a-f995-03cd10c2c0c2"
      },
      "outputs": [
        {
          "output_type": "stream",
          "name": "stdout",
          "text": [
            "Feature extraction and preprocessing completed. Data saved to 'processed_feature_set_A.csv'.\n"
          ]
        }
      ],
      "source": [
        "df_merged.to_csv(\"processed_feature_set_A.csv\", index=False)\n",
        "\n",
        "print(\"Feature extraction and preprocessing completed. Data saved to 'processed_feature_set_A.csv'.\")"
      ]
    },
    {
      "cell_type": "markdown",
      "source": [
        "## Création des variables cibles de mortalité\n",
        "On ajoute trois variables cibles: mortalité hospitalière, mortalité à 48h et mortalité à 30 jours."
      ],
      "metadata": {
        "id": "JgKe1h7QU_pW"
      }
    },
    {
      "cell_type": "code",
      "execution_count": null,
      "metadata": {
        "id": "hdA2pt7NhB5t",
        "colab": {
          "base_uri": "https://localhost:8080/"
        },
        "outputId": "7642bca1-a089-4853-d3b3-c9b16310e318"
      },
      "outputs": [
        {
          "output_type": "stream",
          "name": "stdout",
          "text": [
            "Mortality        5777\n",
            "Mortality_48h     275\n",
            "Mortality_30d    6517\n",
            "dtype: int64\n",
            "   icustay_id_x            charttime  GCSEyes  GCSMotor  GCSVerbal  GCS_Total  \\\n",
            "0      254635.0  2164-10-23 17:38:00      3.0       4.0        4.0       11.0   \n",
            "1      254635.0  2164-10-24 00:00:00      3.0       4.0        4.0       11.0   \n",
            "2      254635.0  2164-10-24 03:00:00      3.0       4.0        4.0       11.0   \n",
            "3      254635.0  2164-10-25 03:00:00      3.0       4.0        4.0       11.0   \n",
            "4      254635.0  2164-10-25 09:30:00      3.0       4.0        4.0       11.0   \n",
            "\n",
            "   subject_id  hadm_id  icustay_id_y  HeartRate  ...  UrineOutput   BUN  \\\n",
            "0       10006   142345      254635.0       72.0  ...        100.0   9.0   \n",
            "1       10006   142345      254635.0       72.0  ...        100.0   9.0   \n",
            "2       10006   142345      254635.0       72.0  ...        100.0  11.0   \n",
            "3       10006   142345      254635.0       72.0  ...         10.0  11.0   \n",
            "4       10006   142345      254635.0       72.0  ...         10.0  20.0   \n",
            "\n",
            "   Bicarbonate  Bilirubin  Potassium  Sodium  WBC  Mortality  Mortality_48h  \\\n",
            "0         29.0        1.0        6.0   139.0  3.1          0              0   \n",
            "1         29.0        1.0        6.0   139.0  3.1          0              0   \n",
            "2         31.0        1.0        4.4   139.0  3.1          0              0   \n",
            "3         31.0        1.0        4.4   139.0  3.1          0              0   \n",
            "4         29.0        1.0        4.6   138.0  3.1          0              0   \n",
            "\n",
            "   Mortality_30d  \n",
            "0              0  \n",
            "1              0  \n",
            "2              0  \n",
            "3              0  \n",
            "4              0  \n",
            "\n",
            "[5 rows x 25 columns]\n",
            "✅ Ajout des labels de mortalité terminé avec succès !\n"
          ]
        }
      ],
      "source": [
        "# Charger les données\n",
        "df_final = pd.read_csv(\"processed_feature_set_A.csv\")\n",
        "\n",
        "# Charger ADMISSIONS.csv pour récupérer DEATHTIME et DISCHTIME\n",
        "df_admissions = pd.read_csv(\"/content/MIMIC-III/ADMISSIONS.csv\",\n",
        "                            usecols=[\"subject_id\", \"hadm_id\", \"deathtime\", \"dischtime\"])\n",
        "\n",
        "# Charger ICUSTAYS.csv pour récupérer INTIME (entrée en soins intensifs)\n",
        "df_icustays = pd.read_csv(\"/content/MIMIC-III/ICUSTAYS.csv\",\n",
        "                          usecols=[\"subject_id\", \"hadm_id\", \"intime\"])\n",
        "\n",
        "# Charger PATIENTS.csv pour récupérer DOD (Date of Death, date de décès)\n",
        "df_patients = pd.read_csv(\"/content/MIMIC-III/PATIENTS.csv\",\n",
        "                          usecols=[\"subject_id\", \"dod\"])\n",
        "\n",
        "# Convertir les dates en format datetime\n",
        "df_admissions[\"deathtime\"] = pd.to_datetime(df_admissions[\"deathtime\"])\n",
        "df_admissions[\"dischtime\"] = pd.to_datetime(df_admissions[\"dischtime\"])\n",
        "df_icustays[\"intime\"] = pd.to_datetime(df_icustays[\"intime\"])\n",
        "df_patients[\"dod\"] = pd.to_datetime(df_patients[\"dod\"])\n",
        "\n",
        "# Fusionner avec ADMISSIONS (Mortalité en hôpital)\n",
        "df_final = df_final.merge(df_admissions, on=[\"subject_id\", \"hadm_id\"], how=\"left\")\n",
        "\n",
        "# Fusionner avec PATIENTS (DOD)\n",
        "df_final = df_final.merge(df_patients, on=\"subject_id\", how=\"left\")\n",
        "\n",
        "# Fusionner avec ICUSTAYS (INTIME pour soins intensifs)\n",
        "df_final = df_final.merge(df_icustays, on=[\"subject_id\", \"hadm_id\"], how=\"left\")\n",
        "\n",
        "# Créer la colonne de mortalité en hôpital\n",
        "df_final[\"Mortality\"] = df_final[\"deathtime\"].notnull().astype(int)\n",
        "\n",
        "# Créer la mortalité à 48h après admission en soins intensifs\n",
        "df_final[\"Mortality_48h\"] = ((df_final[\"dod\"] - df_final[\"intime\"]).dt.total_seconds() / 3600 < 48).astype(int)\n",
        "\n",
        "# Créer la mortalité à 30 jours après la sortie de l'hôpital\n",
        "df_final[\"Mortality_30d\"] = ((df_final[\"dod\"] - df_final[\"dischtime\"]).dt.days < 30).astype(int)\n",
        "\n",
        "# Supprimer les colonnes inutiles\n",
        "df_final.drop(columns=[\"deathtime\", \"dischtime\", \"dod\", \"intime\"], inplace=True)\n",
        "\n",
        "# Sauvegarder le dataset final\n",
        "df_final.to_csv(\"final_dataset_with_mortality.csv\", index=False)\n",
        "\n",
        "# Vérifier la distribution des labels\n",
        "print(df_final[[\"Mortality\", \"Mortality_48h\", \"Mortality_30d\"]].sum())\n",
        "print(df_final.head())\n",
        "print(\"✅ Ajout des labels de mortalité terminé avec succès !\")\n"
      ]
    },
    {
      "cell_type": "markdown",
      "metadata": {
        "id": "fSM6f3wfcwyG"
      },
      "source": [
        "#2. Préparation pour l'apprentissage fédéré\n",
        "\n",
        "\n",
        "## Séparation et mélange des données\n",
        "On divise les données entre survivants et décédés."
      ]
    },
    {
      "cell_type": "code",
      "execution_count": null,
      "metadata": {
        "id": "M9EqHoTPaGHz"
      },
      "outputs": [],
      "source": [
        "mortality_0 = df_final[df_final['Mortality'] == 0]\n",
        "mortality_1 = df_final[df_final['Mortality'] == 1]"
      ]
    },
    {
      "cell_type": "markdown",
      "source": [
        "On les mélange aléatoirement"
      ],
      "metadata": {
        "id": "xSaJDbdL4355"
      }
    },
    {
      "cell_type": "code",
      "execution_count": null,
      "metadata": {
        "id": "ST8aqdJ0BFnG"
      },
      "outputs": [],
      "source": [
        "mortality_0 = mortality_0.sample(frac=1, random_state=42).reset_index(drop=True)\n",
        "mortality_1 = mortality_1.sample(frac=1, random_state=42).reset_index(drop=True)"
      ]
    },
    {
      "cell_type": "markdown",
      "metadata": {
        "id": "XF1AyYRMP23y"
      },
      "source": [
        "## Définition du nombre de clients\n",
        "Nous avons opté pour 10 clients pour l'apprentissage fédéré."
      ]
    },
    {
      "cell_type": "code",
      "execution_count": null,
      "metadata": {
        "id": "YJr1jFZJP1HX"
      },
      "outputs": [],
      "source": [
        "num_clients = 10"
      ]
    },
    {
      "cell_type": "markdown",
      "metadata": {
        "id": "WyWrhy70c12N"
      },
      "source": [
        "## Fonction de distribution non-IID\n",
        "On crée une fonction pour distribuer les données de manière non identiquement distribuée entre les clients pour se rapprocher le plus possible du cas réel."
      ]
    },
    {
      "cell_type": "code",
      "execution_count": null,
      "metadata": {
        "id": "Odwkj1c8buJz"
      },
      "outputs": [],
      "source": [
        "def create_non_iid_distribution(data_0, data_1, num_clients, alpha=0.8):\n",
        "    np.random.seed(None)  # Random seed for different results\n",
        "\n",
        "    # Concatenate both classes together and shuffle\n",
        "    data = pd.concat([data_0, data_1]).sample(frac=1, random_state=42).reset_index(drop=True)\n",
        "\n",
        "    # Ensure each client gets at least 2 samples\n",
        "    min_samples_per_client = 2\n",
        "    total_samples = len(data)\n",
        "\n",
        "    # Subtract minimum samples already assigned\n",
        "    remaining_samples = total_samples - (num_clients * min_samples_per_client)\n",
        "\n",
        "    # Generate proportions for remaining samples\n",
        "    proportions = np.random.dirichlet(np.repeat(alpha, num_clients))\n",
        "    counts = (proportions * remaining_samples).astype(int)\n",
        "\n",
        "    # Ensure rounding errors do not cause a mismatch\n",
        "    counts[-1] += remaining_samples - counts.sum()\n",
        "\n",
        "    # Add back the minimum samples to each client\n",
        "    counts += min_samples_per_client\n",
        "\n",
        "    client_data = []\n",
        "    start_idx = 0\n",
        "\n",
        "    for i in range(num_clients):\n",
        "        end_idx = start_idx + counts[i]\n",
        "        client_df = data.iloc[start_idx:end_idx].sample(frac=1, random_state=i)  # Shuffle\n",
        "        client_data.append(client_df.reset_index(drop=True))\n",
        "        start_idx = end_idx\n",
        "\n",
        "    return client_data"
      ]
    },
    {
      "cell_type": "markdown",
      "metadata": {
        "id": "3BxeaU4hQHrb"
      },
      "source": [
        "# Application de la distribution non-IID\n",
        "Applique la distribution non-IID avec un paramètre alpha de 0.8."
      ]
    },
    {
      "cell_type": "code",
      "execution_count": null,
      "metadata": {
        "id": "OhdFrFOvQFa8"
      },
      "outputs": [],
      "source": [
        "client_data = create_non_iid_distribution(mortality_0, mortality_1, num_clients, alpha=0.8)"
      ]
    },
    {
      "cell_type": "markdown",
      "metadata": {
        "id": "ZQ8eZBqRQOk_"
      },
      "source": [
        "# Visualisation de la distribution\n",
        "On visualise et enregistre la distribution des classes entre les clients."
      ]
    },
    {
      "cell_type": "code",
      "execution_count": null,
      "metadata": {
        "id": "tHSSFBiXcCoT",
        "colab": {
          "base_uri": "https://localhost:8080/",
          "height": 1000
        },
        "outputId": "84ae0202-5c1f-4f52-bbee-20cf1ecab1ee"
      },
      "outputs": [
        {
          "output_type": "stream",
          "name": "stdout",
          "text": [
            "Distribution of classes across clients:\n",
            "Client 1:\n",
            "  Class 0 (Survived): 1218 samples (79.7%)\n",
            "  Class 1 (Died): 311 samples (20.3%)\n",
            "  Total: 1529 samples\n",
            "------------------------------\n",
            "Client 2:\n",
            "  Class 0 (Survived): 24 samples (72.7%)\n",
            "  Class 1 (Died): 9 samples (27.3%)\n",
            "  Total: 33 samples\n",
            "------------------------------\n",
            "Client 3:\n",
            "  Class 0 (Survived): 88 samples (80.7%)\n",
            "  Class 1 (Died): 21 samples (19.3%)\n",
            "  Total: 109 samples\n",
            "------------------------------\n",
            "Client 4:\n",
            "  Class 0 (Survived): 2286 samples (80.0%)\n",
            "  Class 1 (Died): 570 samples (20.0%)\n",
            "  Total: 2856 samples\n",
            "------------------------------\n",
            "Client 5:\n",
            "  Class 0 (Survived): 3453 samples (79.6%)\n",
            "  Class 1 (Died): 885 samples (20.4%)\n",
            "  Total: 4338 samples\n",
            "------------------------------\n",
            "Client 6:\n",
            "  Class 0 (Survived): 42 samples (76.4%)\n",
            "  Class 1 (Died): 13 samples (23.6%)\n",
            "  Total: 55 samples\n",
            "------------------------------\n",
            "Client 7:\n",
            "  Class 0 (Survived): 9379 samples (80.1%)\n",
            "  Class 1 (Died): 2336 samples (19.9%)\n",
            "  Total: 11715 samples\n",
            "------------------------------\n",
            "Client 8:\n",
            "  Class 0 (Survived): 2456 samples (80.0%)\n",
            "  Class 1 (Died): 614 samples (20.0%)\n",
            "  Total: 3070 samples\n",
            "------------------------------\n",
            "Client 9:\n",
            "  Class 0 (Survived): 2 samples (100.0%)\n",
            "  Class 1 (Died): 0 samples (0.0%)\n",
            "  Total: 2 samples\n",
            "------------------------------\n",
            "Client 10:\n",
            "  Class 0 (Survived): 3578 samples (77.9%)\n",
            "  Class 1 (Died): 1018 samples (22.1%)\n",
            "  Total: 4596 samples\n",
            "------------------------------\n"
          ]
        },
        {
          "output_type": "display_data",
          "data": {
            "text/plain": [
              "<Figure size 1500x500 with 2 Axes>"
            ],
            "image/png": "[encoded data removed]"
          },
          "metadata": {}
        },
        {
          "output_type": "stream",
          "name": "stdout",
          "text": [
            "Non-IID data partitioning complete with 10 clients.\n"
          ]
        }
      ],
      "source": [
        "def visualize_distribution(client_data):\n",
        "    # Prepare data for plotting\n",
        "    class_0_counts = []\n",
        "    class_1_counts = []\n",
        "    class_0_percent = []\n",
        "    total_samples = []\n",
        "\n",
        "    print(\"Distribution of classes across clients:\")\n",
        "    for i, client in enumerate(client_data):\n",
        "        counts = client['Mortality'].value_counts().to_dict()\n",
        "        count_0 = counts.get(0, 0)\n",
        "        count_1 = counts.get(1, 0)\n",
        "        total = len(client)\n",
        "\n",
        "        class_0_counts.append(count_0)\n",
        "        class_1_counts.append(count_1)\n",
        "        class_0_percent.append(100 * count_0 / total)\n",
        "        total_samples.append(total)\n",
        "\n",
        "        print(f\"Client {i+1}:\")\n",
        "        print(f\"  Class 0 (Survived): {count_0} samples ({count_0/total:.1%})\")\n",
        "        print(f\"  Class 1 (Died): {count_1} samples ({count_1/total:.1%})\")\n",
        "        print(f\"  Total: {total} samples\")\n",
        "        print(\"-\" * 30)\n",
        "\n",
        "    # Create plots\n",
        "    fig, (ax1, ax2) = plt.subplots(1, 2, figsize=(15, 5))\n",
        "\n",
        "    # Plot raw counts\n",
        "    x = np.arange(num_clients)\n",
        "    width = 0.35\n",
        "    ax1.bar(x, class_0_counts, width, label='Survived')\n",
        "    ax1.bar(x, class_1_counts, width, bottom=class_0_counts, label='Died')\n",
        "    ax1.set_xlabel('Client ID')\n",
        "    ax1.set_ylabel('Number of Samples')\n",
        "    ax1.set_title('Non-IID Distribution: Sample Counts')\n",
        "    ax1.set_xticks(x)\n",
        "    ax1.set_xticklabels([f'{i+1}' for i in range(num_clients)])\n",
        "    ax1.legend()\n",
        "\n",
        "    # Plot percentage of class 0\n",
        "    ax2.bar(x, class_0_percent)\n",
        "    ax2.set_xlabel('Client ID')\n",
        "    ax2.set_ylabel('Percentage of Survived (%)')\n",
        "    ax2.set_title('Non-IID Distribution: % of Class 0 (Survived)')\n",
        "    ax2.set_xticks(x)\n",
        "    ax2.set_xticklabels([f'{i+1}' for i in range(num_clients)])\n",
        "    ax2.set_ylim(0, 100)\n",
        "\n",
        "    plt.tight_layout()\n",
        "    plt.savefig('non_iid_distribution.png', dpi=300)\n",
        "    plt.show()\n",
        "\n",
        "# Visualize the non-IID distribution\n",
        "visualize_distribution(client_data)\n",
        "\n",
        "for i, client_df in enumerate(client_data):\n",
        "    client_df.to_csv(f\"client_{i+1}_data.csv\", index=False)\n",
        "\n",
        "print(f\"Non-IID data partitioning complete with {num_clients} clients.\")"
      ]
    },
    {
      "cell_type": "markdown",
      "source": [
        "#3. Implémentation de l'apprentissage fédéré\n",
        "## Configuration PyTorch\n",
        "On importe les différentes bibliothèques"
      ],
      "metadata": {
        "id": "iB2D2aArWqO5"
      }
    },
    {
      "cell_type": "code",
      "execution_count": null,
      "metadata": {
        "id": "TZDl5tn_OWYm"
      },
      "outputs": [],
      "source": [
        "import torch\n",
        "import torch.nn as nn\n",
        "import torch.nn.functional as F\n",
        "import torch.optim as optim\n",
        "from torch.utils.data import DataLoader, TensorDataset"
      ]
    },
    {
      "cell_type": "markdown",
      "source": [
        "## Définition du réseau de neurones\n",
        "On crée une classe pour le réseau de neurones à deux couches avec régularisation par dropout."
      ],
      "metadata": {
        "id": "f9nK6wkxWxIP"
      }
    },
    {
      "cell_type": "code",
      "execution_count": null,
      "metadata": {
        "id": "kImWT94OOadV"
      },
      "outputs": [],
      "source": [
        "class NeuralNetwork(nn.Module):\n",
        "    def __init__(self, input_dim, hidden_dim, output_dim, dropout_prob=0.5):\n",
        "        \"\"\"\n",
        "        Initialize the NeuralNetwork model.\n",
        "\n",
        "        Args:\n",
        "            input_dim (int): Number of input features.\n",
        "            hidden_dim (int): Number of neurons in the hidden layer.\n",
        "            output_dim (int): Number of output classes (1 for binary classification).\n",
        "            dropout_prob (float): Dropout probability for regularization (default: 0.5).\n",
        "        \"\"\"\n",
        "        super(NeuralNetwork, self).__init__()  # Initialize the parent class (nn.Module)\n",
        "\n",
        "        # First fully connected layer (input to hidden layer)\n",
        "        self.layer_1 = nn.Linear(input_dim, hidden_dim)\n",
        "        # Initialize weights using Kaiming (He) initialization for ReLU activation\n",
        "        nn.init.kaiming_uniform_(self.layer_1.weight, nonlinearity=\"relu\")\n",
        "\n",
        "        # Second fully connected layer (hidden layer to output layer)\n",
        "        self.layer_2 = nn.Linear(hidden_dim, output_dim)\n",
        "        # Initialize weights using Xavier (Glorot) initialization for the output layer\n",
        "        nn.init.xavier_uniform_(self.layer_2.weight)\n",
        "\n",
        "        # Dropout layer for regularization\n",
        "        self.dropout = nn.Dropout(dropout_prob)\n",
        "\n",
        "    def forward(self, x):\n",
        "        \"\"\"\n",
        "        Forward pass through the network.\n",
        "\n",
        "        Args:\n",
        "            x (torch.Tensor): Input tensor of shape (batch_size, input_dim).\n",
        "\n",
        "        Returns:\n",
        "            torch.Tensor: Output tensor of shape (batch_size, output_dim).\n",
        "        \"\"\"\n",
        "        # Apply the first fully connected layer followed by ReLU activation\n",
        "        x = F.relu(self.layer_1(x))\n",
        "\n",
        "        # Apply dropout for regularization\n",
        "        x = self.dropout(x)\n",
        "\n",
        "        # Apply the second fully connected layer\n",
        "        x = self.layer_2(x)\n",
        "\n",
        "        return x"
      ]
    },
    {
      "cell_type": "markdown",
      "source": [
        "## Classe Client pour l'apprentissage fédéré\n",
        "On définit une classe client avec des méthodes pour préparer les données, s'entraîner et évaluer le modèle."
      ],
      "metadata": {
        "id": "Lsq9A6x8W7b2"
      }
    },
    {
      "cell_type": "code",
      "execution_count": null,
      "metadata": {
        "id": "NsYYcFjFOcnS"
      },
      "outputs": [],
      "source": [
        "class FederatedClient:\n",
        "    def __init__(self, client_id, train_data, test_data, input_dim, hidden_dim, output_dim, dropout_prob=0.5, lr=0.001):\n",
        "        \"\"\"\n",
        "        Initialize a federated learning client.\n",
        "\n",
        "        Args:\n",
        "            client_id (str): Unique identifier for the client.\n",
        "            train_data (tuple): Tuple of (features, labels) for training data.\n",
        "            test_data (tuple): Tuple of (features, labels) for test data.\n",
        "            input_dim (int): Number of input features.\n",
        "            hidden_dim (int): Number of neurons in the hidden layer.\n",
        "            output_dim (int): Number of output classes (1 for binary classification).\n",
        "            dropout_prob (float): Dropout probability for regularization (default: 0.5).\n",
        "            lr (float): Learning rate for the optimizer (default: 0.001).\n",
        "        \"\"\"\n",
        "        self.client_id = client_id\n",
        "        self.input_dim = input_dim\n",
        "        self.hidden_dim = hidden_dim\n",
        "        self.output_dim = output_dim\n",
        "        self.dropout_prob = dropout_prob\n",
        "        self.lr = lr\n",
        "\n",
        "        # Prepare training and test data\n",
        "        self.train_loader = self._prepare_data(train_data)\n",
        "        self.test_loader = self._prepare_data(test_data)\n",
        "\n",
        "        # Initialize the local model\n",
        "        self.model = NeuralNetwork(input_dim, hidden_dim, output_dim, dropout_prob)\n",
        "        self.criterion = nn.BCEWithLogitsLoss()  # Binary cross-entropy loss with logits\n",
        "        self.optimizer = optim.Adam(self.model.parameters(), lr=lr)\n",
        "\n",
        "    def _prepare_data(self, data):\n",
        "        \"\"\"\n",
        "        Convert raw data into a PyTorch DataLoader.\n",
        "\n",
        "        Args:\n",
        "            data (tuple): Tuple of (features, labels).\n",
        "\n",
        "        Returns:\n",
        "            DataLoader: PyTorch DataLoader for the given data.\n",
        "        \"\"\"\n",
        "        features, labels = data\n",
        "        dataset = TensorDataset(torch.tensor(features, dtype=torch.float32),\n",
        "                               torch.tensor(labels, dtype=torch.float32).reshape(-1, 1))\n",
        "        return DataLoader(dataset, batch_size=32, shuffle=True)\n",
        "\n",
        "    def train(self, global_model_weights):\n",
        "        \"\"\"\n",
        "        Train the local model using the client's data.\n",
        "\n",
        "        Args:\n",
        "            global_model_weights (dict): State dictionary of the global model weights.\n",
        "\n",
        "        Returns:\n",
        "            dict: Updated local model weights.\n",
        "        \"\"\"\n",
        "        # Load the global model weights into the local model\n",
        "        self.model.load_state_dict(global_model_weights)\n",
        "        self.model.train()\n",
        "\n",
        "        # Local training loop\n",
        "        for epoch in range(10):  # Train for 10 epochs (can be adjusted)\n",
        "            for batch_x, batch_y in self.train_loader:\n",
        "                self.optimizer.zero_grad()\n",
        "                outputs = self.model(batch_x)\n",
        "                loss = self.criterion(outputs, batch_y)\n",
        "                loss.backward()\n",
        "                self.optimizer.step()\n",
        "\n",
        "        # Return the updated model weights\n",
        "        return self.model.state_dict()\n",
        "\n",
        "    def evaluate(self):\n",
        "        \"\"\"\n",
        "        Evaluate the local model on the client's test data.\n",
        "\n",
        "        Returns:\n",
        "            float: Accuracy of the model on the test data.\n",
        "        \"\"\"\n",
        "        self.model.eval()\n",
        "        correct = 0\n",
        "        total = 0\n",
        "        with torch.no_grad():\n",
        "            for batch_x, batch_y in self.test_loader:\n",
        "                outputs = self.model(batch_x)\n",
        "                predicted = (torch.sigmoid(outputs) > 0.5).float()\n",
        "                total += batch_y.size(0)\n",
        "                correct += (predicted == batch_y).sum().item()\n",
        "\n",
        "        accuracy = 100 * correct / total\n",
        "        return accuracy\n",
        "    def evaluate_train(self):\n",
        "      \"\"\"\n",
        "      Évalue le modèle local sur les données d'entraînement.\n",
        "      Returns:\n",
        "          float: Accuracy sur l'ensemble d'entraînement.\n",
        "      \"\"\"\n",
        "      self.model.eval()\n",
        "      correct = 0\n",
        "      total = 0\n",
        "      with torch.no_grad():\n",
        "          for batch_x, batch_y in self.train_loader:\n",
        "              outputs = self.model(batch_x)\n",
        "              predicted = (torch.sigmoid(outputs) > 0.5).float()\n",
        "              total += batch_y.size(0)\n",
        "              correct += (predicted == batch_y).sum().item()\n",
        "      return 100 * correct / total\n",
        "    def calculate_loss(self, data_loader):\n",
        "      \"\"\"\n",
        "      Calcule la perte moyenne du modèle sur un DataLoader donné.\n",
        "\n",
        "      Args:\n",
        "          data_loader (DataLoader): DataLoader contenant les données à évaluer.\n",
        "\n",
        "      Returns:\n",
        "          float: Perte moyenne.\n",
        "      \"\"\"\n",
        "      self.model.eval()\n",
        "      total_loss = 0.0\n",
        "      total_samples = 0\n",
        "\n",
        "      with torch.no_grad():\n",
        "          for batch_x, batch_y in data_loader:\n",
        "              outputs = self.model(batch_x)\n",
        "              loss = self.criterion(outputs, batch_y)\n",
        "              total_loss += loss.item() * batch_y.size(0)\n",
        "              total_samples += batch_y.size(0)\n",
        "\n",
        "      return total_loss / total_samples\n",
        "\n"
      ]
    },
    {
      "cell_type": "markdown",
      "source": [
        "## Classe Serveur pour l'apprentissage fédéré\n",
        "On définit la classe serveur qui agrège les poids des modèles et orchestre le processus d'apprentissage."
      ],
      "metadata": {
        "id": "hZL6lmr8XAPA"
      }
    },
    {
      "cell_type": "code",
      "execution_count": null,
      "metadata": {
        "id": "5BnllYGhScIN"
      },
      "outputs": [],
      "source": [
        "class FederatedServer:\n",
        "    def __init__(self, global_model, clients):\n",
        "        \"\"\"\n",
        "        Initialize the federated learning server.\n",
        "\n",
        "        Args:\n",
        "            global_model (nn.Module): The global model to be trained.\n",
        "            clients (list): List of FederatedClient instances.\n",
        "        \"\"\"\n",
        "        self.global_model = global_model\n",
        "        self.clients = clients\n",
        "\n",
        "    def aggregate_weights(self, client_weights):\n",
        "        \"\"\"\n",
        "        Aggregate client model weights using Federated Averaging.\n",
        "\n",
        "        Args:\n",
        "            client_weights (list): List of state dictionaries from clients.\n",
        "\n",
        "        Returns:\n",
        "            dict: Aggregated global model weights.\n",
        "        \"\"\"\n",
        "        global_weights = self.global_model.state_dict()\n",
        "\n",
        "        # Average the weights\n",
        "        for key in global_weights:\n",
        "            global_weights[key] = torch.stack([client_weights[i][key] for i in range(len(client_weights))]).mean(0)\n",
        "\n",
        "        return global_weights\n",
        "\n",
        "    def run_federated_learning(self, num_rounds):\n",
        "        \"\"\"\n",
        "        Run the federated learning process for a specified number of rounds.\n",
        "\n",
        "        Args:\n",
        "            num_rounds (int): Number of federated learning rounds.\n",
        "        \"\"\"\n",
        "        for round in range(num_rounds):\n",
        "            print(f\"Round {round + 1}/{num_rounds}\")\n",
        "\n",
        "            # List to store updated weights from clients\n",
        "            client_weights = []\n",
        "\n",
        "            # Train each client and collect updated weights\n",
        "            for client in self.clients:\n",
        "                print(f\"Training {client.client_id}...\")\n",
        "                updated_weights = client.train(self.global_model.state_dict())\n",
        "                client_weights.append(updated_weights)\n",
        "\n",
        "                # Evaluate the client's model\n",
        "                accuracy = client.evaluate()\n",
        "                print(f\"{client.client_id} Test Accuracy: {accuracy:.2f}%\")\n",
        "\n",
        "            # Aggregate client weights to update the global model\n",
        "            global_weights = self.aggregate_weights(client_weights)\n",
        "            self.global_model.load_state_dict(global_weights)\n",
        "\n",
        "            # Evaluate the global model on all clients' test data\n",
        "            global_accuracy = self.evaluate_global_model()\n",
        "            print(f\"Global Model Test Accuracy: {global_accuracy:.2f}%\")\n",
        "\n",
        "    def evaluate_global_model(self):\n",
        "        \"\"\"\n",
        "        Evaluate the global model on all clients' test data.\n",
        "\n",
        "        Returns:\n",
        "            float: Average accuracy of the global model across all clients.\n",
        "        \"\"\"\n",
        "        self.global_model.eval()\n",
        "        total_accuracy = 0\n",
        "\n",
        "        for client in self.clients:\n",
        "            correct = 0\n",
        "            total = 0\n",
        "            with torch.no_grad():\n",
        "                for batch_x, batch_y in client.test_loader:\n",
        "                    outputs = self.global_model(batch_x)\n",
        "                    predicted = (torch.sigmoid(outputs) > 0.5).float()\n",
        "                    total += batch_y.size(0)\n",
        "                    correct += (predicted == batch_y).sum().item()\n",
        "\n",
        "            accuracy = 100 * correct / total\n",
        "            total_accuracy += accuracy\n",
        "\n",
        "        return total_accuracy / len(self.clients)"
      ]
    },
    {
      "cell_type": "markdown",
      "source": [
        "# Suivi des Métriques et Early Stopping\n",
        "Cette fonction orchestre le processus d'apprentissage fédéré en collectant les métriques de performance (accuracy, loss) sur les ensembles d'entraînement et de test à chaque round. Elle implémente également un mécanisme d'arrêt précoce (early stopping) qui interrompt l'apprentissage lorsque les performances n'augmentent plus suffisamment"
      ],
      "metadata": {
        "id": "jF5JhDfxuqib"
      }
    },
    {
      "cell_type": "code",
      "source": [
        "def run_federated_learning_with_metrics_and_early_stopping(federated_server, max_rounds=10, patience=3, min_improvement=0.001):\n",
        "    \"\"\"\n",
        "    Exécute l'apprentissage fédéré en collectant les métriques train/test et avec early stopping.\n",
        "    \"\"\"\n",
        "    train_accuracies = []\n",
        "    test_accuracies = []\n",
        "    train_losses = []\n",
        "    test_losses = []\n",
        "    history = []\n",
        "    best_accuracy = 0\n",
        "    rounds_without_improvement = 0\n",
        "\n",
        "    for round_num in range(max_rounds):\n",
        "        print(f\"Round {round_num + 1}/{max_rounds}\")\n",
        "\n",
        "        # Liste pour stocker les poids clients\n",
        "        client_weights = []\n",
        "\n",
        "        # Entraîner chaque client et collecter les métriques\n",
        "        round_train_accuracies = []\n",
        "        round_test_accuracies = []\n",
        "        round_train_losses = []\n",
        "        round_test_losses = []\n",
        "\n",
        "        for client in federated_server.clients:\n",
        "            updated_weights = client.train(federated_server.global_model.state_dict())\n",
        "            client_weights.append(updated_weights)\n",
        "\n",
        "            # Évaluer sur train et test\n",
        "            train_acc = client.evaluate_train()\n",
        "            test_acc = client.evaluate()\n",
        "\n",
        "            # Calculer les losses\n",
        "            train_loss = client.calculate_loss(client.train_loader)\n",
        "            test_loss = client.calculate_loss(client.test_loader)\n",
        "\n",
        "            round_train_accuracies.append(train_acc)\n",
        "            round_test_accuracies.append(test_acc)\n",
        "            round_train_losses.append(train_loss)\n",
        "            round_test_losses.append(test_loss)\n",
        "\n",
        "        # Agréger les poids comme avant\n",
        "        global_weights = federated_server.aggregate_weights(client_weights)\n",
        "        federated_server.global_model.load_state_dict(global_weights)\n",
        "\n",
        "        # Calculer la moyenne des accuracies pour ce round\n",
        "        avg_train_accuracy = sum(round_train_accuracies) / len(round_train_accuracies)\n",
        "        avg_test_accuracy = sum(round_test_accuracies) / len(round_test_accuracies)\n",
        "\n",
        "        # Calculer la moyenne des losses\n",
        "        avg_train_loss = sum(round_train_losses) / len(round_train_losses)\n",
        "        avg_test_loss = sum(round_test_losses) / len(round_test_losses)\n",
        "\n",
        "        train_accuracies.append(avg_train_accuracy)\n",
        "        test_accuracies.append(avg_test_accuracy)\n",
        "        train_losses.append(avg_train_loss)\n",
        "        test_losses.append(avg_test_loss)\n",
        "\n",
        "        # Évaluer le modèle global pour l'early stopping\n",
        "        global_accuracy = federated_server.evaluate_global_model()\n",
        "        history.append(global_accuracy)\n",
        "\n",
        "        # Vérification pour l'early stopping\n",
        "        if global_accuracy > best_accuracy + min_improvement:\n",
        "            best_accuracy = global_accuracy\n",
        "            rounds_without_improvement = 0\n",
        "        else:\n",
        "            rounds_without_improvement += 1\n",
        "            print(f\"Pas d'amélioration significative. Rounds sans amélioration: {rounds_without_improvement}/{patience}\")\n",
        "            if rounds_without_improvement >= patience:\n",
        "                print(f\"Early stopping après {round_num + 1} rounds\")\n",
        "                break\n",
        "\n",
        "    # Visualiser l'écart entre train et test pour accuracy\n",
        "    import matplotlib.pyplot as plt\n",
        "\n",
        "    plt.figure(figsize=(10, 6))\n",
        "    plt.plot(train_accuracies, label='Train Accuracy')\n",
        "    plt.plot(test_accuracies, label='Test Accuracy')\n",
        "    plt.xlabel('Rounds')\n",
        "    plt.ylabel('Accuracy (%)')\n",
        "    plt.title(\"Évolution des performances sur l'entraînement et le test\")\n",
        "    plt.legend()\n",
        "    plt.grid(True)\n",
        "    plt.show()\n",
        "\n",
        "    # Visualiser les courbes de loss\n",
        "    plt.figure(figsize=(10, 6))\n",
        "    plt.plot(train_losses, label='Train Loss')\n",
        "    plt.plot(test_losses, label='Test Loss')\n",
        "    plt.xlabel('Rounds')\n",
        "    plt.ylabel('Loss')\n",
        "    plt.title(\"Évolution de la perte (Loss) durant l'apprentissage fédéré\")\n",
        "    plt.legend()\n",
        "    plt.grid(True)\n",
        "    plt.show()\n",
        "\n",
        "    return train_accuracies, test_accuracies, train_losses, test_losses, history\n"
      ],
      "metadata": {
        "id": "l-Ua0VR_itNi"
      },
      "execution_count": null,
      "outputs": []
    },
    {
      "cell_type": "markdown",
      "source": [
        "# Initialisation et lancement de l'apprentissage fédéré\n",
        "Etape finale de notre implémentation d'apprentissage fédéré. Elle comprend:\n",
        "\n",
        "- La préparation des données pour chaque client (séparation des caractéristiques et des étiquettes)\n",
        "\n",
        "- L'initialisation du modèle global avec les dimensions précédemment définies\n",
        "\n",
        "- La création des instances de clients fédérés avec leurs données respectives\n",
        "\n",
        "- L'initialisation du serveur fédéré qui orchestrera l'apprentissage\n",
        "\n",
        "- Le lancement du processus d'apprentissage fédéré sur plusieurs rounds"
      ],
      "metadata": {
        "id": "YKbH3FGucVMZ"
      }
    },
    {
      "cell_type": "code",
      "source": [
        "# Préparation des données pour chaque client\n",
        "client_datasets = []\n",
        "\n",
        "for client_df in client_data:\n",
        "    # Sélection des caractéristiques et de la cible\n",
        "    X = client_df.drop(['Mortality', 'Mortality_48h', 'Mortality_30d', 'icustay_id_x', 'charttime', 'subject_id', 'hadm_id', 'icustay_id_y'], axis=1).values\n",
        "    y = client_df['Mortality'].values\n",
        "\n",
        "    # Division en ensembles d'entraînement et de test (80% / 20%)\n",
        "    train_size = int(0.8 * len(X))\n",
        "    X_train, X_test = X[:train_size], X[train_size:]\n",
        "    y_train, y_test = y[:train_size], y[train_size:]\n",
        "\n",
        "    client_datasets.append(((X_train, y_train), (X_test, y_test)))\n",
        "\n",
        "# Initialisation du modèle global\n",
        "# Récupération du nombre réel de caractéristiques à partir des données\n",
        "if len(client_datasets) > 0 and len(client_datasets[0]) > 0:\n",
        "    input_dim = client_datasets[0][0][0].shape[1]  # Nombre de caractéristiques\n",
        "    hidden_dim = 64  # Plus grand modèle pour des données complexes\n",
        "    output_dim = 1   # Classification binaire (survie/décès)\n",
        "\n",
        "# Création du modèle global\n",
        "global_model = NeuralNetwork(input_dim, hidden_dim, output_dim, dropout_prob=0.3)\n",
        "print(f\"Modèle global initialisé avec {input_dim} caractéristiques d'entrée, {hidden_dim} neurones cachés\")\n",
        "\n",
        "# Initialisation des clients fédérés\n",
        "federated_clients = []\n",
        "for i, dataset in enumerate(client_datasets):\n",
        "    client = FederatedClient(\n",
        "        client_id=f\"Client_{i+1}\",\n",
        "        train_data=dataset[0],\n",
        "        test_data=dataset[1],\n",
        "        input_dim=input_dim,\n",
        "        hidden_dim=hidden_dim,\n",
        "        output_dim=output_dim,\n",
        "        dropout_prob=0.3,\n",
        "        lr=0.001\n",
        "    )\n",
        "    federated_clients.append(client)\n",
        "    print(f\"Client_{i+1} initialisé avec {len(dataset[0][0])} échantillons d'entraînement et {len(dataset[1][0])} échantillons de test\")\n",
        "\n",
        "# Initialisation du serveur fédéré\n",
        "federated_server = FederatedServer(global_model, federated_clients)\n",
        "print(\"Serveur fédéré initialisé\")\n",
        "\n",
        "# Lancement de l'apprentissage fédéré (5 rounds)\n",
        "print(\"\\nDémarrage de l'apprentissage fédéré...\")\n",
        "# Utilisation de l'early stopping\n",
        "train_accuracies, test_accuracies, train_losses, test_losses, history = run_federated_learning_with_metrics_and_early_stopping(federated_server, max_rounds=10, patience=3)\n",
        "\n",
        "# Visualiser l'évolution de l'accuracy\n",
        "import matplotlib.pyplot as plt\n",
        "plt.figure(figsize=(10, 6))\n",
        "plt.plot(history)\n",
        "plt.title('Évolution de l\\'accuracy globale durant l\\'apprentissage fédéré')\n",
        "plt.xlabel('Rounds')\n",
        "plt.ylabel('Accuracy (%)')\n",
        "plt.grid(True)\n",
        "plt.show()\n",
        "\n"
      ],
      "metadata": {
        "id": "EMlFQ1cNXd8a",
        "colab": {
          "base_uri": "https://localhost:8080/",
          "height": 1000
        },
        "outputId": "ef455787-fa8e-4cee-cf6f-ca4c890c7044"
      },
      "execution_count": null,
      "outputs": [
        {
          "output_type": "stream",
          "name": "stdout",
          "text": [
            "Modèle global initialisé avec 17 caractéristiques d'entrée, 64 neurones cachés\n",
            "Client_1 initialisé avec 1223 échantillons d'entraînement et 306 échantillons de test\n",
            "Client_2 initialisé avec 26 échantillons d'entraînement et 7 échantillons de test\n",
            "Client_3 initialisé avec 87 échantillons d'entraînement et 22 échantillons de test\n",
            "Client_4 initialisé avec 2284 échantillons d'entraînement et 572 échantillons de test\n",
            "Client_5 initialisé avec 3470 échantillons d'entraînement et 868 échantillons de test\n",
            "Client_6 initialisé avec 44 échantillons d'entraînement et 11 échantillons de test\n",
            "Client_7 initialisé avec 9372 échantillons d'entraînement et 2343 échantillons de test\n",
            "Client_8 initialisé avec 2456 échantillons d'entraînement et 614 échantillons de test\n",
            "Client_9 initialisé avec 1 échantillons d'entraînement et 1 échantillons de test\n",
            "Client_10 initialisé avec 3676 échantillons d'entraînement et 920 échantillons de test\n",
            "Serveur fédéré initialisé\n",
            "\n",
            "Démarrage de l'apprentissage fédéré...\n",
            "Round 1/10\n",
            "Round 2/10\n",
            "Round 3/10\n",
            "Pas d'amélioration significative. Rounds sans amélioration: 1/3\n",
            "Round 4/10\n",
            "Pas d'amélioration significative. Rounds sans amélioration: 2/3\n",
            "Round 5/10\n",
            "Round 6/10\n",
            "Pas d'amélioration significative. Rounds sans amélioration: 1/3\n",
            "Round 7/10\n",
            "Round 8/10\n",
            "Round 9/10\n",
            "Pas d'amélioration significative. Rounds sans amélioration: 1/3\n",
            "Round 10/10\n"
          ]
        },
        {
          "output_type": "display_data",
          "data": {
            "text/plain": [
              "<Figure size 1000x600 with 1 Axes>"
            ],
            "image/png": "[encoded data removed]"
          },
          "metadata": {}
        },
        {
          "output_type": "display_data",
          "data": {
            "text/plain": [
              "<Figure size 1000x600 with 1 Axes>"
            ],
            "image/png": "[encoded data removed]"
          },
          "metadata": {}
        },
        {
          "output_type": "display_data",
          "data": {
            "text/plain": [
              "<Figure size 1000x600 with 1 Axes>"
            ],
            "image/png": "[encoded data removed]"
          },
          "metadata": {}
        }
      ]
    },
    {
      "cell_type": "markdown",
      "source": [
        "# Évaluation de l'accuracy dans l'apprentissage fédéré\n",
        "évaluation de la précision (accuracy) du modèle fédéré. Dans l'apprentissage fédéré, l'évaluation de la précision est particulière car elle doit agréger les performances sur plusieurs clients sans partager les données brutes. Nous allons:\n",
        "\n",
        "- Créer une fonction d'évaluation globale qui agrège les métriques des clients\n",
        "\n",
        "- Évaluer le modèle fédéré sur les données de test de tous les clients\n",
        "\n",
        "- Comparer les performances du modèle fédéré avec un modèle centralisé (pour référence)\n",
        "\n",
        "- Visualiser les résultats d'accuracy par client et globalement"
      ],
      "metadata": {
        "id": "P4a0NkjDdLuS"
      }
    },
    {
      "cell_type": "code",
      "source": [
        "import matplotlib.pyplot as plt\n",
        "from sklearn.metrics import accuracy_score, precision_score, recall_score, f1_score, roc_auc_score\n",
        "import numpy as np\n",
        "\n",
        "# Ajoutons d'abord une méthode à la classe FederatedClient pour accéder aux données brutes si nécessaire\n",
        "def get_raw_data(self):\n",
        "    \"\"\"\n",
        "    Récupérer les données brutes à partir du DataLoader pour les évaluations externes.\n",
        "\n",
        "    Returns:\n",
        "        tuple: (X_test, y_test) contenant les caractéristiques et étiquettes de test\n",
        "    \"\"\"\n",
        "    X_test_list = []\n",
        "    y_test_list = []\n",
        "\n",
        "    # Parcourir le DataLoader pour extraire toutes les données\n",
        "    for features, labels in self.test_loader:\n",
        "        X_test_list.append(features.numpy())\n",
        "        y_test_list.append(labels.numpy())\n",
        "\n",
        "    # Concaténer tous les batches\n",
        "    X_test = np.vstack(X_test_list)\n",
        "    y_test = np.vstack(y_test_list).reshape(-1)\n",
        "\n",
        "    return X_test, y_test\n",
        "\n",
        "# Ajouter dynamiquement la méthode à la classe\n",
        "FederatedClient.get_raw_data = get_raw_data\n",
        "\n",
        "# Fonction pour évaluer le modèle fédéré globalement\n",
        "def evaluate_federated_model():\n",
        "    print(\"=== Évaluation du modèle fédéré ===\")\n",
        "\n",
        "    # Résultats par client\n",
        "    client_accuracies = []\n",
        "    client_sizes = []\n",
        "\n",
        "    # Autres métriques globales\n",
        "    all_y_true = []\n",
        "    all_y_pred = []\n",
        "\n",
        "    # Évaluation par client\n",
        "    for client in federated_clients:\n",
        "        # Utiliser la méthode evaluate() existante qui retourne déjà l'accuracy\n",
        "        local_accuracy = client.evaluate() / 100  # Convertir pourcentage en fraction\n",
        "\n",
        "        # Obtenir les données brutes pour les métriques détaillées\n",
        "        X_test, y_test = client.get_raw_data()\n",
        "        client_sizes.append(len(X_test))\n",
        "\n",
        "        # Appliquer le modèle global aux données pour obtenir les prédictions\n",
        "        client.model.load_state_dict(global_model.state_dict())  # Assurer que le client utilise le modèle global\n",
        "        client.model.eval()\n",
        "\n",
        "        with torch.no_grad():\n",
        "            outputs = client.model(torch.tensor(X_test, dtype=torch.float32))\n",
        "            y_pred = (torch.sigmoid(outputs) > 0.5).float().numpy().reshape(-1)\n",
        "\n",
        "        # Stocker l'accuracy locale\n",
        "        client_accuracies.append(local_accuracy)\n",
        "\n",
        "        # Collecter pour les métriques globales\n",
        "        all_y_true.extend(y_test)\n",
        "        all_y_pred.extend(y_pred)\n",
        "\n",
        "        print(f\"{client.client_id}: Accuracy = {local_accuracy:.4f} (sur {len(X_test)} échantillons)\")\n",
        "\n",
        "    # Calcul de la moyenne pondérée (par taille d'échantillon)\n",
        "    weighted_avg_accuracy = sum(acc * size for acc, size in zip(client_accuracies, client_sizes)) / sum(client_sizes)\n",
        "\n",
        "    # Métriques globales\n",
        "    global_accuracy = accuracy_score(all_y_true, all_y_pred)\n",
        "    global_precision = precision_score(all_y_true, all_y_pred, zero_division=0)\n",
        "    global_recall = recall_score(all_y_true, all_y_pred, zero_division=0)\n",
        "    global_f1 = f1_score(all_y_true, all_y_pred, zero_division=0)\n",
        "\n",
        "    print(\"\\n=== Résultats globaux ===\")\n",
        "    print(f\"Accuracy moyenne pondérée: {weighted_avg_accuracy:.4f}\")\n",
        "    print(f\"Accuracy globale: {global_accuracy:.4f}\")\n",
        "    print(f\"Precision: {global_precision:.4f}\")\n",
        "    print(f\"Recall: {global_recall:.4f}\")\n",
        "    print(f\"F1 Score: {global_f1:.4f}\")\n",
        "\n",
        "    # Retourner les métriques pour comparaison ou visualisation\n",
        "    return {\n",
        "        'client_accuracies': client_accuracies,\n",
        "        'weighted_avg_accuracy': weighted_avg_accuracy,\n",
        "        'global_accuracy': global_accuracy,\n",
        "        'global_precision': global_precision,\n",
        "        'global_recall': global_recall,\n",
        "        'global_f1': global_f1\n",
        "    }\n",
        "\n",
        "# Entrainer un modèle centralisé pour comparaison\n",
        "def train_centralized_model():\n",
        "    print(\"\\n=== Entraînement d'un modèle centralisé (référence) ===\")\n",
        "\n",
        "    # Combiner les données de tous les clients\n",
        "    X_train_all = []\n",
        "    y_train_all = []\n",
        "    X_test_all = []\n",
        "    y_test_all = []\n",
        "\n",
        "    for client in federated_clients:\n",
        "        # Extraire les données brutes de chaque client\n",
        "        for batch_x, batch_y in client.train_loader:\n",
        "            X_train_all.append(batch_x.numpy())\n",
        "            y_train_all.append(batch_y.numpy())\n",
        "\n",
        "        X_test, y_test = client.get_raw_data()\n",
        "        X_test_all.append(X_test)\n",
        "        y_test_all.append(y_test)\n",
        "\n",
        "    X_train_all = np.vstack(X_train_all)\n",
        "    y_train_all = np.vstack(y_train_all).reshape(-1, 1)\n",
        "    X_test_all = np.vstack(X_test_all)\n",
        "    y_test_all = np.concatenate(y_test_all)\n",
        "\n",
        "    # Créer et entraîner un modèle centralisé\n",
        "    centralized_model = NeuralNetwork(input_dim, hidden_dim, output_dim, dropout_prob=0.3)\n",
        "    criterion = nn.BCEWithLogitsLoss()\n",
        "    optimizer = torch.optim.Adam(centralized_model.parameters(), lr=0.001)\n",
        "\n",
        "    # Convertir les données en tenseurs\n",
        "    X_train_tensor = torch.FloatTensor(X_train_all)\n",
        "    y_train_tensor = torch.FloatTensor(y_train_all)\n",
        "\n",
        "    # Créer un DataLoader\n",
        "    train_dataset = TensorDataset(X_train_tensor, y_train_tensor)\n",
        "    train_loader = DataLoader(train_dataset, batch_size=128, shuffle=True)\n",
        "\n",
        "    # Entraînement\n",
        "    epochs = 10\n",
        "\n",
        "    for epoch in range(epochs):\n",
        "        centralized_model.train()\n",
        "        epoch_loss = 0\n",
        "        num_batches = 0\n",
        "\n",
        "        for batch_x, batch_y in train_loader:\n",
        "            optimizer.zero_grad()\n",
        "            outputs = centralized_model(batch_x)\n",
        "            loss = criterion(outputs, batch_y)\n",
        "            loss.backward()\n",
        "            optimizer.step()\n",
        "\n",
        "            epoch_loss += loss.item()\n",
        "            num_batches += 1\n",
        "\n",
        "        if (epoch + 1) % 2 == 0:\n",
        "            print(f\"Epoch {epoch+1}/{epochs}, Loss: {epoch_loss/num_batches:.4f}\")\n",
        "\n",
        "    # Évaluer le modèle centralisé\n",
        "    X_test_tensor = torch.FloatTensor(X_test_all)\n",
        "    y_test_tensor = torch.FloatTensor(y_test_all).reshape(-1, 1)\n",
        "\n",
        "    centralized_model.eval()\n",
        "    with torch.no_grad():\n",
        "        y_pred_proba = centralized_model(X_test_tensor)\n",
        "        y_pred = (torch.sigmoid(y_pred_proba) > 0.5).float().numpy().reshape(-1)\n",
        "\n",
        "    centralized_accuracy = accuracy_score(y_test_all, y_pred)\n",
        "    centralized_precision = precision_score(y_test_all, y_pred, zero_division=0)\n",
        "    centralized_recall = recall_score(y_test_all, y_pred, zero_division=0)\n",
        "    centralized_f1 = f1_score(y_test_all, y_pred, zero_division=0)\n",
        "\n",
        "    print(\"\\n=== Résultats du modèle centralisé ===\")\n",
        "    print(f\"Accuracy: {centralized_accuracy:.4f}\")\n",
        "    print(f\"Precision: {centralized_precision:.4f}\")\n",
        "    print(f\"Recall: {centralized_recall:.4f}\")\n",
        "    print(f\"F1 Score: {centralized_f1:.4f}\")\n",
        "\n",
        "    return {\n",
        "        'accuracy': centralized_accuracy,\n",
        "        'precision': centralized_precision,\n",
        "        'recall': centralized_recall,\n",
        "        'f1': centralized_f1\n",
        "    }\n",
        "\n",
        "# Visualisation comparative des résultats\n",
        "def visualize_results(federated_metrics, centralized_metrics):\n",
        "    plt.figure(figsize=(15, 10))\n",
        "\n",
        "    # Graphique 1: Accuracy par client\n",
        "    plt.subplot(2, 2, 1)\n",
        "    client_ids = [f\"Client {i+1}\" for i in range(len(federated_metrics['client_accuracies']))]\n",
        "    plt.bar(client_ids, federated_metrics['client_accuracies'], color='skyblue')\n",
        "    plt.axhline(y=federated_metrics['weighted_avg_accuracy'], color='r', linestyle='-', label=f\"Moyenne pondérée: {federated_metrics['weighted_avg_accuracy']:.4f}\")\n",
        "    plt.title('Accuracy par client')\n",
        "    plt.ylabel('Accuracy')\n",
        "    plt.ylim(0, 1)\n",
        "    plt.legend()\n",
        "\n",
        "    # Graphique 2: Comparaison Fédéré vs Centralisé\n",
        "    plt.subplot(2, 2, 2)\n",
        "    comparison_metrics = ['Accuracy', 'Precision', 'Recall', 'F1']\n",
        "    federated_values = [federated_metrics['global_accuracy'], federated_metrics['global_precision'],\n",
        "                         federated_metrics['global_recall'], federated_metrics['global_f1']]\n",
        "    centralized_values = [centralized_metrics['accuracy'], centralized_metrics['precision'],\n",
        "                          centralized_metrics['recall'], centralized_metrics['f1']]\n",
        "\n",
        "    x = np.arange(len(comparison_metrics))\n",
        "    width = 0.35\n",
        "\n",
        "    plt.bar(x - width/2, federated_values, width, label='Modèle Fédéré', color='skyblue')\n",
        "    plt.bar(x + width/2, centralized_values, width, label='Modèle Centralisé', color='salmon')\n",
        "    plt.title('Comparaison Fédéré vs Centralisé')\n",
        "    plt.xticks(x, comparison_metrics)\n",
        "    plt.ylabel('Score')\n",
        "    plt.ylim(0, 1)\n",
        "    plt.legend()\n",
        "\n",
        "    plt.tight_layout()\n",
        "    plt.savefig('federated_vs_centralized_performance.png')\n",
        "    plt.show()\n",
        "\n",
        "# Exécuter l'évaluation\n",
        "federated_metrics = evaluate_federated_model()\n",
        "centralized_metrics = train_centralized_model()\n",
        "visualize_results(federated_metrics, centralized_metrics)\n"
      ],
      "metadata": {
        "id": "GWZrEqIBc-FL",
        "colab": {
          "base_uri": "https://localhost:8080/",
          "height": 1000
        },
        "outputId": "5dbdeb35-7690-4119-8d25-448b1af0090f"
      },
      "execution_count": null,
      "outputs": [
        {
          "output_type": "stream",
          "name": "stdout",
          "text": [
            "=== Évaluation du modèle fédéré ===\n",
            "Client_1: Accuracy = 0.9052 (sur 306 échantillons)\n",
            "Client_2: Accuracy = 0.8571 (sur 7 échantillons)\n",
            "Client_3: Accuracy = 0.9091 (sur 22 échantillons)\n",
            "Client_4: Accuracy = 0.8951 (sur 572 échantillons)\n",
            "Client_5: Accuracy = 0.9194 (sur 868 échantillons)\n",
            "Client_6: Accuracy = 0.9091 (sur 11 échantillons)\n",
            "Client_7: Accuracy = 0.9206 (sur 2343 échantillons)\n",
            "Client_8: Accuracy = 0.9218 (sur 614 échantillons)\n",
            "Client_9: Accuracy = 1.0000 (sur 1 échantillons)\n",
            "Client_10: Accuracy = 0.9185 (sur 920 échantillons)\n",
            "\n",
            "=== Résultats globaux ===\n",
            "Accuracy moyenne pondérée: 0.9167\n",
            "Accuracy globale: 0.9093\n",
            "Precision: 0.7907\n",
            "Recall: 0.7478\n",
            "F1 Score: 0.7687\n",
            "\n",
            "=== Entraînement d'un modèle centralisé (référence) ===\n",
            "Epoch 2/10, Loss: 10.0123\n",
            "Epoch 4/10, Loss: 3.4943\n",
            "Epoch 6/10, Loss: 0.9204\n",
            "Epoch 8/10, Loss: 0.4230\n",
            "Epoch 10/10, Loss: 0.3077\n",
            "\n",
            "=== Résultats du modèle centralisé ===\n",
            "Accuracy: 0.8965\n",
            "Precision: 0.8124\n",
            "Recall: 0.6331\n",
            "F1 Score: 0.7116\n"
          ]
        },
        {
          "output_type": "display_data",
          "data": {
            "text/plain": [
              "<Figure size 1500x1000 with 2 Axes>"
            ],
            "image/png": "[encoded data removed]"
          },
          "metadata": {}
        }
      ]
    }
  ],
  "metadata": {
    "colab": {
      "provenance": []
    },
    "kernelspec": {
      "display_name": "Python 3",
      "name": "python3"
    },
    "language_info": {
      "name": "python"
    }
  },
  "nbformat": 4,
  "nbformat_minor": 0
}